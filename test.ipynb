{
 "cells": [
  {
   "cell_type": "code",
   "execution_count": 3,
   "metadata": {},
   "outputs": [
    {
     "name": "stderr",
     "output_type": "stream",
     "text": [
      "[nltk_data] Downloading package stopwords to\n",
      "[nltk_data]     c:\\Users\\pragna\\anaconda3\\envs\\newenv\\lib\\site-\n",
      "[nltk_data]     packages\\llama_index\\legacy\\_static/nltk_cache...\n",
      "[nltk_data]   Unzipping corpora\\stopwords.zip.\n",
      "[nltk_data] Downloading package punkt to\n",
      "[nltk_data]     c:\\Users\\pragna\\anaconda3\\envs\\newenv\\lib\\site-\n",
      "[nltk_data]     packages\\llama_index\\legacy\\_static/nltk_cache...\n",
      "[nltk_data]   Unzipping tokenizers\\punkt.zip.\n",
      "Ignoring wrong pointing object 513 0 (offset 0)\n",
      "Ignoring wrong pointing object 696 0 (offset 0)\n",
      "Ignoring wrong pointing object 868 0 (offset 0)\n",
      "Ignoring wrong pointing object 1110 0 (offset 0)\n",
      "Ignoring wrong pointing object 1300 0 (offset 0)\n",
      "Ignoring wrong pointing object 1347 0 (offset 0)\n",
      "Ignoring wrong pointing object 1741 0 (offset 0)\n",
      "Ignoring wrong pointing object 2196 0 (offset 0)\n",
      "Ignoring wrong pointing object 2905 0 (offset 0)\n"
     ]
    }
   ],
   "source": [
    "from llama_index.legacy import SimpleDirectoryReader\n",
    "documents = SimpleDirectoryReader(input_dir='data').load_data()"
   ]
  }
 ],
 "metadata": {
  "kernelspec": {
   "display_name": "Python 3",
   "language": "python",
   "name": "python3"
  },
  "language_info": {
   "codemirror_mode": {
    "name": "ipython",
    "version": 3
   },
   "file_extension": ".py",
   "mimetype": "text/x-python",
   "name": "python",
   "nbconvert_exporter": "python",
   "pygments_lexer": "ipython3",
   "version": "3.10.0"
  }
 },
 "nbformat": 4,
 "nbformat_minor": 2
}
